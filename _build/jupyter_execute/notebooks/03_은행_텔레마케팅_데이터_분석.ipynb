{
 "cells": [
  {
   "cell_type": "markdown",
   "metadata": {},
   "source": [
    "# 3장 은행 텔레마케팅 데이터 분석\n",
    "\n",
    "자료 출처: Hands-On Data Science for Marketing, Packt Publishing, 2019."
   ]
  },
  {
   "cell_type": "markdown",
   "metadata": {},
   "source": [
    "## 3.1 소개"
   ]
  },
  {
   "cell_type": "markdown",
   "metadata": {},
   "source": [
    "이 장에서는 어떤 은행의 텔레마케팅 관련 데이터를 파이썬으로 분석한다. 여기에서 다룰 데이터는 포르투갈의 한 은행이 정기예금 텔레마케팅 행사를 하면서 기록한 각종 변수들로서 텔레마케팅 행사에 의해 고객이 정기예금에 가입했는지 여부가 초점이다. 분석 방법은 회귀분석 등 상대적으로 복잡한 통계적 모형을 사용하지 않고, 마케팅 활동의 성과를 평가하는 데 사용되는 핵심성과지표를 계산해보는 수준이다. 특히 텔레마케팅으로 어느 정도의 고객이 정기예금에 가입했는지, 즉 소위 전환율(conversion rate)을 계산하는 데 초점을 맞춘다. 전환율은 **디지털 마케팅 관련** 기본적인 **애널리틱스**(analytics)이다.(애널리틱스란 데이터 또는 통계의 체계적인 **계산적 분석**을 말한다.)"
   ]
  },
  {
   "cell_type": "markdown",
   "metadata": {},
   "source": [
    "### ChatGPT Q&A\n",
    "\n",
    ">**애널리틱스(analytics)에 대해 쉽게 설명해줘.**\n",
    "\n",
    "---\n",
    "\n",
    ">애널리틱스(Analytics)란 데이터를 수집, 분석, 해석하여 유용한 정보를 추출하고, 이를 바탕으로 의사결정을 지원하는 과정을 말합니다. 쉽게 말해, 다양한 데이터를 분석하여 사람들이 더 나은 결정을 내릴 수 있도록 도와주는 것입니다. 애널리틱스는 비즈니스, 과학, 의료, 금융, 교육 등 다양한 분야에서 사용됩니다.\n",
    ">\n",
    ">애널리틱스의 주요 과정은 다음과 같습니다:\n",
    ">\n",
    ">1. **데이터 수집**: 다양한 출처로부터 데이터를 모읍니다. 이 데이터는 판매 기록, 고객 설문, 웹사이트 트래픽 등이 될 수 있습니다.\n",
    ">\n",
    ">2. **데이터 정제**: 수집된 데이터는 종종 불완전하거나 오류를 포함하고 있을 수 있습니다. 데이터를 정제하는 과정에서는 이러한 오류를 수정하고, 누락된 값을 처리합니다.\n",
    ">\n",
    ">3. **데이터 분석**: 정제된 데이터를 사용하여 통계적 방법, 기계학습 알고리즘, 데이터 마이닝 기법 등을 적용해 유의미한 정보를 추출합니다.\n",
    ">\n",
    ">4. **인사이트 도출**: 분석을 통해 얻은 결과를 해석하여 비즈니스 의사결정, 고객 행동 이해, 시장 동향 예측 등에 활용할 수 있는 인사이트를 도출합니다.\n",
    ">\n",
    ">5. **결과 공유 및 의사결정 지원**: 분석 결과를 보고서, 대시보드 등의 형태로 정리하여 관련 이해관계자와 공유하고, 이를 바탕으로 전략 수립이나 의사결정을 지원합니다.\n",
    ">\n",
    ">애널리틱스는 조직이나 기업이 보다 데이터에 기반한, 객관적이고 효과적인 결정을 내리는 데 큰 도움을 줍니다. 예를 들어, 소매업체는 고객 구매 데이터를 분석하여 재고 관리를 최적화할 수 있고, 마케팅 팀은 고객 행동 데이터를 분석하여 타겟 마케팅 전략을 개발할 수 있습니다."
   ]
  },
  {
   "cell_type": "markdown",
   "metadata": {},
   "source": [
    "## 3.2 데이터"
   ]
  },
  {
   "cell_type": "markdown",
   "metadata": {},
   "source": [
    "### 개요\n",
    "\n",
    "여기에서 다룰 데이터는 포르투갈 한 은행의 정기예금 텔레마케팅과 관련된 것이다. 데이터의 원래 출처는 Moro 등이 수행한 2014년 연구논문(S. Moro, P. Cortez and P. Rita. A Data-Driven Approach to Predict the Success of Bank Telemarketing. Decision Support Systems, Elsevier, 62:22-31, June 2014)이다. \n",
    "\n",
    "이 연구는 은행의 정기예금 가입 텔레마케팅 성공 여부를 머신러닝 기법으로 접근한 것이다. 연구자들은 포르투갈의 한 은행에 대해 2008년부터 2013년까지 수집된 데이터를 사용했으며, 로지스틱 회귀(logistic regression), 결정 트리(decision trees), 신경망(neural network), 서포트 벡터 머신(SVM: support vector machine) 등 네 가지 모델을 비교했다. \n",
    "\n",
    "우리가 사용하는 \"bank-additional-full.csv\" 파일에는 Moro 등(2014) 연구의 데이터 파일에서 추출한 일부 관측들이 담겨 있다. 2008년 5월부터 2010년 11월까지 41,188개의 관측으로서 고객의 나이, 직업 등 20개 입력변수와 정기예금 가입 여부를 'yes'와 'no'로 기록한 출력변수 1개이다. "
   ]
  },
  {
   "cell_type": "markdown",
   "metadata": {},
   "source": [
    "### 변수 정보\n",
    "\n",
    "(1) 은행 고객 데이터\n",
    "- `age`: 나이(숫자)\n",
    "- `job`: 직업의 종류(범주: admin., blue-collar, entrepreneur, housemaid, management, retired, self-employed, services, student, technician, unemployed, unknown)\n",
    "- `marital`: 혼인 여부(범주: divorced, married, single, unknown; 참고: \"divorced\"는 이혼 또는 사별을 의미함)\n",
    "- `education`: 교육(범주: basic.4y, basic.6y, basic.9y, high.school, illiterate, professional.course, university.degree, unknown)\n",
    "- `default`: 채무불이행 여부(범주: no, yes, unknown)\n",
    "- `housing`: 주택 융자 여부(범주: no, yes, unknown)\n",
    "- `loan`: 개인 대출 여부(범주: no, yes, unknown)\n",
    "\n",
    "(2) 이번 텔레마케팅 행사의 마지막 컨택 관련\n",
    "- `contact`: 콜 유형(범주: cellular, telephone)\n",
    "- `month`: 컨택 월(범주: jan, feb, mar, ..., nov, dec)\n",
    "- `day_of_week`: 컨택 요일(범주: mon, tue, wed, thu, fri)\n",
    "- `duration`: 컨택 지속 시간(초)(숫자). **주의 사항**: 이 변수는 출력변수에 큰 영향을 미친다. 예를 들어 `duration`=0이면 `y`는 당연히 no이다. 또한 콜이 수행되기 전에는 `duration`을 알 수는 없지만, `duration`이 측정되는 시점(즉, 콜이 끝난 시점)에는 `y`값이 곧바로 드러난다. 따라서 이 변수는 예측변수로 사용돼서는 안되며, 벤치마크 목적으로만 포함되어야 한다.\n",
    "\n",
    "(3) 기타 특성\n",
    "- `campaign`: 이번 행사 동안 해당 고객에 대해 수행된 컨택 횟수(숫자, 마지막 컨택 포함)\n",
    "- `pdays`: 이전 행사에서 해당 고객에게 마지막으로 연락한 후 경과한 날짜 수(숫자, 999는 고객에게 이전에 연락한 적이 없었음을 의미함)\n",
    "- `previous`: 이번 행사 이전에 해당 고객에 대해 수행된 컨택 횟수(숫자)\n",
    "- `poutcome`: 이전 마케팅 행사의 결과(범주: failure, nonexistent, success)\n",
    "\n",
    "(4) 사회적, 경제적 관련 특성\n",
    "- `emp.var.rate`: 고용 변동률 - 분기별 지표(숫자)\n",
    "- `cons.price.idx`: 소비자 물가지수 - 월별 지표(숫자)\n",
    "- `cons.conf.idx`: 소비자 신뢰지수 - 월별 지표(숫자)\n",
    "- `euribor3m`: 유리보(EURIBOR) 3개월물 금리 - 일별 기록(숫자)\n",
    "- `nr.Employee`: 직원 수 - 분기별 지표(숫자)\n",
    "\n",
    "**출력 변수**\n",
    "\n",
    "- `y`: 고객이 정기 예금에 가입했는지 여부(이항 변수: yes, no)"
   ]
  },
  {
   "cell_type": "markdown",
   "metadata": {},
   "source": [
    "### 데이터 로딩"
   ]
  },
  {
   "cell_type": "markdown",
   "metadata": {},
   "source": [
    "**라이브러리**\n",
    "\n",
    "아래 첫 번째 줄은 그래프 등의 이미지를 자신의 웹 애플리케이션에 그리도록 `matplotlib`에 지시하는 것이다. 또한 `pandas`는 데이터 분석을 지원하며, `matplotlib`과 `seaborn`은 그래프 작성을 지원한다. "
   ]
  },
  {
   "cell_type": "code",
   "execution_count": 1,
   "metadata": {},
   "outputs": [],
   "source": [
    "%matplotlib inline\n",
    "import pandas as pd\n",
    "import matplotlib.pyplot as plt\n",
    "import seaborn as sns"
   ]
  },
  {
   "cell_type": "markdown",
   "metadata": {},
   "source": [
    "**데이터세트**\n",
    "\n",
    "UCI Machine Learning Repository의 데이터 중 [Bank Marketing Data Set](https://archive.ics.uci.edu/dataset/222/bank+marketing)을 사용한다. 해당 웹페이지에 가서 오른쪽의 [DOWNLOAD](https://archive.ics.uci.edu/static/public/222/bank+marketing.zip) 링크를 클릭하여 데이터를 다운로드한 다음, 압축을 풀어 몇 단계의 폴더를 거쳐 들어가면 \"bank-additional-full.csv\" 파일을 발견할 수 있다. 이 파일을 자신의 컴퓨터의 적절한 폴더에 저장한 다음 아래와 같은 방식으로 로딩시킨다.(데이터 파일의 디렉토리를 적는 방법에 대해서는 2.2.1절의 ISLP \"College.csv\"를 불러들이는 방법을 참조할 것.)  \n",
    "\n",
    "`pd.read_csv()` 함수의 옵션으로 `sep=';'`이 사용된다.(워드패드 등의 문서 앱으로 \"bank-additional-full.csv\" 파일을 열어보면 구분 기호로 쉼표(,)가 아니라 세미콜론(;)이 사용된 것을 알 수 있다.)"
   ]
  },
  {
   "cell_type": "code",
   "execution_count": 2,
   "metadata": {},
   "outputs": [
    {
     "data": {
      "text/html": [
       "<div>\n",
       "<style scoped>\n",
       "    .dataframe tbody tr th:only-of-type {\n",
       "        vertical-align: middle;\n",
       "    }\n",
       "\n",
       "    .dataframe tbody tr th {\n",
       "        vertical-align: top;\n",
       "    }\n",
       "\n",
       "    .dataframe thead th {\n",
       "        text-align: right;\n",
       "    }\n",
       "</style>\n",
       "<table border=\"1\" class=\"dataframe\">\n",
       "  <thead>\n",
       "    <tr style=\"text-align: right;\">\n",
       "      <th></th>\n",
       "      <th>age</th>\n",
       "      <th>job</th>\n",
       "      <th>marital</th>\n",
       "      <th>education</th>\n",
       "      <th>default</th>\n",
       "      <th>housing</th>\n",
       "      <th>loan</th>\n",
       "      <th>contact</th>\n",
       "      <th>month</th>\n",
       "      <th>day_of_week</th>\n",
       "      <th>...</th>\n",
       "      <th>campaign</th>\n",
       "      <th>pdays</th>\n",
       "      <th>previous</th>\n",
       "      <th>poutcome</th>\n",
       "      <th>emp.var.rate</th>\n",
       "      <th>cons.price.idx</th>\n",
       "      <th>cons.conf.idx</th>\n",
       "      <th>euribor3m</th>\n",
       "      <th>nr.employed</th>\n",
       "      <th>y</th>\n",
       "    </tr>\n",
       "  </thead>\n",
       "  <tbody>\n",
       "    <tr>\n",
       "      <th>0</th>\n",
       "      <td>56</td>\n",
       "      <td>housemaid</td>\n",
       "      <td>married</td>\n",
       "      <td>basic.4y</td>\n",
       "      <td>no</td>\n",
       "      <td>no</td>\n",
       "      <td>no</td>\n",
       "      <td>telephone</td>\n",
       "      <td>may</td>\n",
       "      <td>mon</td>\n",
       "      <td>...</td>\n",
       "      <td>1</td>\n",
       "      <td>999</td>\n",
       "      <td>0</td>\n",
       "      <td>nonexistent</td>\n",
       "      <td>1.1</td>\n",
       "      <td>93.994</td>\n",
       "      <td>-36.4</td>\n",
       "      <td>4.857</td>\n",
       "      <td>5191.0</td>\n",
       "      <td>no</td>\n",
       "    </tr>\n",
       "    <tr>\n",
       "      <th>1</th>\n",
       "      <td>57</td>\n",
       "      <td>services</td>\n",
       "      <td>married</td>\n",
       "      <td>high.school</td>\n",
       "      <td>unknown</td>\n",
       "      <td>no</td>\n",
       "      <td>no</td>\n",
       "      <td>telephone</td>\n",
       "      <td>may</td>\n",
       "      <td>mon</td>\n",
       "      <td>...</td>\n",
       "      <td>1</td>\n",
       "      <td>999</td>\n",
       "      <td>0</td>\n",
       "      <td>nonexistent</td>\n",
       "      <td>1.1</td>\n",
       "      <td>93.994</td>\n",
       "      <td>-36.4</td>\n",
       "      <td>4.857</td>\n",
       "      <td>5191.0</td>\n",
       "      <td>no</td>\n",
       "    </tr>\n",
       "    <tr>\n",
       "      <th>2</th>\n",
       "      <td>37</td>\n",
       "      <td>services</td>\n",
       "      <td>married</td>\n",
       "      <td>high.school</td>\n",
       "      <td>no</td>\n",
       "      <td>yes</td>\n",
       "      <td>no</td>\n",
       "      <td>telephone</td>\n",
       "      <td>may</td>\n",
       "      <td>mon</td>\n",
       "      <td>...</td>\n",
       "      <td>1</td>\n",
       "      <td>999</td>\n",
       "      <td>0</td>\n",
       "      <td>nonexistent</td>\n",
       "      <td>1.1</td>\n",
       "      <td>93.994</td>\n",
       "      <td>-36.4</td>\n",
       "      <td>4.857</td>\n",
       "      <td>5191.0</td>\n",
       "      <td>no</td>\n",
       "    </tr>\n",
       "    <tr>\n",
       "      <th>3</th>\n",
       "      <td>40</td>\n",
       "      <td>admin.</td>\n",
       "      <td>married</td>\n",
       "      <td>basic.6y</td>\n",
       "      <td>no</td>\n",
       "      <td>no</td>\n",
       "      <td>no</td>\n",
       "      <td>telephone</td>\n",
       "      <td>may</td>\n",
       "      <td>mon</td>\n",
       "      <td>...</td>\n",
       "      <td>1</td>\n",
       "      <td>999</td>\n",
       "      <td>0</td>\n",
       "      <td>nonexistent</td>\n",
       "      <td>1.1</td>\n",
       "      <td>93.994</td>\n",
       "      <td>-36.4</td>\n",
       "      <td>4.857</td>\n",
       "      <td>5191.0</td>\n",
       "      <td>no</td>\n",
       "    </tr>\n",
       "    <tr>\n",
       "      <th>4</th>\n",
       "      <td>56</td>\n",
       "      <td>services</td>\n",
       "      <td>married</td>\n",
       "      <td>high.school</td>\n",
       "      <td>no</td>\n",
       "      <td>no</td>\n",
       "      <td>yes</td>\n",
       "      <td>telephone</td>\n",
       "      <td>may</td>\n",
       "      <td>mon</td>\n",
       "      <td>...</td>\n",
       "      <td>1</td>\n",
       "      <td>999</td>\n",
       "      <td>0</td>\n",
       "      <td>nonexistent</td>\n",
       "      <td>1.1</td>\n",
       "      <td>93.994</td>\n",
       "      <td>-36.4</td>\n",
       "      <td>4.857</td>\n",
       "      <td>5191.0</td>\n",
       "      <td>no</td>\n",
       "    </tr>\n",
       "    <tr>\n",
       "      <th>...</th>\n",
       "      <td>...</td>\n",
       "      <td>...</td>\n",
       "      <td>...</td>\n",
       "      <td>...</td>\n",
       "      <td>...</td>\n",
       "      <td>...</td>\n",
       "      <td>...</td>\n",
       "      <td>...</td>\n",
       "      <td>...</td>\n",
       "      <td>...</td>\n",
       "      <td>...</td>\n",
       "      <td>...</td>\n",
       "      <td>...</td>\n",
       "      <td>...</td>\n",
       "      <td>...</td>\n",
       "      <td>...</td>\n",
       "      <td>...</td>\n",
       "      <td>...</td>\n",
       "      <td>...</td>\n",
       "      <td>...</td>\n",
       "      <td>...</td>\n",
       "    </tr>\n",
       "    <tr>\n",
       "      <th>41183</th>\n",
       "      <td>73</td>\n",
       "      <td>retired</td>\n",
       "      <td>married</td>\n",
       "      <td>professional.course</td>\n",
       "      <td>no</td>\n",
       "      <td>yes</td>\n",
       "      <td>no</td>\n",
       "      <td>cellular</td>\n",
       "      <td>nov</td>\n",
       "      <td>fri</td>\n",
       "      <td>...</td>\n",
       "      <td>1</td>\n",
       "      <td>999</td>\n",
       "      <td>0</td>\n",
       "      <td>nonexistent</td>\n",
       "      <td>-1.1</td>\n",
       "      <td>94.767</td>\n",
       "      <td>-50.8</td>\n",
       "      <td>1.028</td>\n",
       "      <td>4963.6</td>\n",
       "      <td>yes</td>\n",
       "    </tr>\n",
       "    <tr>\n",
       "      <th>41184</th>\n",
       "      <td>46</td>\n",
       "      <td>blue-collar</td>\n",
       "      <td>married</td>\n",
       "      <td>professional.course</td>\n",
       "      <td>no</td>\n",
       "      <td>no</td>\n",
       "      <td>no</td>\n",
       "      <td>cellular</td>\n",
       "      <td>nov</td>\n",
       "      <td>fri</td>\n",
       "      <td>...</td>\n",
       "      <td>1</td>\n",
       "      <td>999</td>\n",
       "      <td>0</td>\n",
       "      <td>nonexistent</td>\n",
       "      <td>-1.1</td>\n",
       "      <td>94.767</td>\n",
       "      <td>-50.8</td>\n",
       "      <td>1.028</td>\n",
       "      <td>4963.6</td>\n",
       "      <td>no</td>\n",
       "    </tr>\n",
       "    <tr>\n",
       "      <th>41185</th>\n",
       "      <td>56</td>\n",
       "      <td>retired</td>\n",
       "      <td>married</td>\n",
       "      <td>university.degree</td>\n",
       "      <td>no</td>\n",
       "      <td>yes</td>\n",
       "      <td>no</td>\n",
       "      <td>cellular</td>\n",
       "      <td>nov</td>\n",
       "      <td>fri</td>\n",
       "      <td>...</td>\n",
       "      <td>2</td>\n",
       "      <td>999</td>\n",
       "      <td>0</td>\n",
       "      <td>nonexistent</td>\n",
       "      <td>-1.1</td>\n",
       "      <td>94.767</td>\n",
       "      <td>-50.8</td>\n",
       "      <td>1.028</td>\n",
       "      <td>4963.6</td>\n",
       "      <td>no</td>\n",
       "    </tr>\n",
       "    <tr>\n",
       "      <th>41186</th>\n",
       "      <td>44</td>\n",
       "      <td>technician</td>\n",
       "      <td>married</td>\n",
       "      <td>professional.course</td>\n",
       "      <td>no</td>\n",
       "      <td>no</td>\n",
       "      <td>no</td>\n",
       "      <td>cellular</td>\n",
       "      <td>nov</td>\n",
       "      <td>fri</td>\n",
       "      <td>...</td>\n",
       "      <td>1</td>\n",
       "      <td>999</td>\n",
       "      <td>0</td>\n",
       "      <td>nonexistent</td>\n",
       "      <td>-1.1</td>\n",
       "      <td>94.767</td>\n",
       "      <td>-50.8</td>\n",
       "      <td>1.028</td>\n",
       "      <td>4963.6</td>\n",
       "      <td>yes</td>\n",
       "    </tr>\n",
       "    <tr>\n",
       "      <th>41187</th>\n",
       "      <td>74</td>\n",
       "      <td>retired</td>\n",
       "      <td>married</td>\n",
       "      <td>professional.course</td>\n",
       "      <td>no</td>\n",
       "      <td>yes</td>\n",
       "      <td>no</td>\n",
       "      <td>cellular</td>\n",
       "      <td>nov</td>\n",
       "      <td>fri</td>\n",
       "      <td>...</td>\n",
       "      <td>3</td>\n",
       "      <td>999</td>\n",
       "      <td>1</td>\n",
       "      <td>failure</td>\n",
       "      <td>-1.1</td>\n",
       "      <td>94.767</td>\n",
       "      <td>-50.8</td>\n",
       "      <td>1.028</td>\n",
       "      <td>4963.6</td>\n",
       "      <td>no</td>\n",
       "    </tr>\n",
       "  </tbody>\n",
       "</table>\n",
       "<p>41188 rows × 21 columns</p>\n",
       "</div>"
      ],
      "text/plain": [
       "       age          job  marital            education  default housing loan  \\\n",
       "0       56    housemaid  married             basic.4y       no      no   no   \n",
       "1       57     services  married          high.school  unknown      no   no   \n",
       "2       37     services  married          high.school       no     yes   no   \n",
       "3       40       admin.  married             basic.6y       no      no   no   \n",
       "4       56     services  married          high.school       no      no  yes   \n",
       "...    ...          ...      ...                  ...      ...     ...  ...   \n",
       "41183   73      retired  married  professional.course       no     yes   no   \n",
       "41184   46  blue-collar  married  professional.course       no      no   no   \n",
       "41185   56      retired  married    university.degree       no     yes   no   \n",
       "41186   44   technician  married  professional.course       no      no   no   \n",
       "41187   74      retired  married  professional.course       no     yes   no   \n",
       "\n",
       "         contact month day_of_week  ...  campaign  pdays  previous  \\\n",
       "0      telephone   may         mon  ...         1    999         0   \n",
       "1      telephone   may         mon  ...         1    999         0   \n",
       "2      telephone   may         mon  ...         1    999         0   \n",
       "3      telephone   may         mon  ...         1    999         0   \n",
       "4      telephone   may         mon  ...         1    999         0   \n",
       "...          ...   ...         ...  ...       ...    ...       ...   \n",
       "41183   cellular   nov         fri  ...         1    999         0   \n",
       "41184   cellular   nov         fri  ...         1    999         0   \n",
       "41185   cellular   nov         fri  ...         2    999         0   \n",
       "41186   cellular   nov         fri  ...         1    999         0   \n",
       "41187   cellular   nov         fri  ...         3    999         1   \n",
       "\n",
       "          poutcome emp.var.rate  cons.price.idx  cons.conf.idx  euribor3m  \\\n",
       "0      nonexistent          1.1          93.994          -36.4      4.857   \n",
       "1      nonexistent          1.1          93.994          -36.4      4.857   \n",
       "2      nonexistent          1.1          93.994          -36.4      4.857   \n",
       "3      nonexistent          1.1          93.994          -36.4      4.857   \n",
       "4      nonexistent          1.1          93.994          -36.4      4.857   \n",
       "...            ...          ...             ...            ...        ...   \n",
       "41183  nonexistent         -1.1          94.767          -50.8      1.028   \n",
       "41184  nonexistent         -1.1          94.767          -50.8      1.028   \n",
       "41185  nonexistent         -1.1          94.767          -50.8      1.028   \n",
       "41186  nonexistent         -1.1          94.767          -50.8      1.028   \n",
       "41187      failure         -1.1          94.767          -50.8      1.028   \n",
       "\n",
       "       nr.employed    y  \n",
       "0           5191.0   no  \n",
       "1           5191.0   no  \n",
       "2           5191.0   no  \n",
       "3           5191.0   no  \n",
       "4           5191.0   no  \n",
       "...            ...  ...  \n",
       "41183       4963.6  yes  \n",
       "41184       4963.6   no  \n",
       "41185       4963.6   no  \n",
       "41186       4963.6  yes  \n",
       "41187       4963.6   no  \n",
       "\n",
       "[41188 rows x 21 columns]"
      ]
     },
     "execution_count": 2,
     "metadata": {},
     "output_type": "execute_result"
    }
   ],
   "source": [
    "df = pd.read_csv('../Data/bank-additional-full.csv', sep=';')\n",
    "df"
   ]
  },
  {
   "cell_type": "markdown",
   "metadata": {},
   "source": [
    "## 3.3 핵심성과지표 계산"
   ]
  },
  {
   "cell_type": "markdown",
   "metadata": {},
   "source": [
    "### 핵심성과지표\n",
    "마케팅 활동의 성과를 평가하는 데 흔히 **핵심성과지표**(KPI: key performance indicators)가 사용된다. 성과지표는 수치화된 목표 또는 그 목표 달성과 관련된  정량화된 측정지표를 의미한다. \"핵심\"성과지표는 여러 성과지표 중 가장 중요한 것으로 선정한 것을 말한다. KPI 중 \"디지털\" 마케팅과 관련된 것으로는 CTR(클릭률), 전환율 등이 대표적이다. \n",
    "\n",
    "**CTR (Click Through Rate): 클릭률**\n",
    "\n",
    "광고를 본 사람 중 클릭한 수가 얼마나 많은지의 비율, 즉 클릭수를 노출수로 나눈 것이다. 클릭률이 높을수록 광고가 올바른 대상에게 노출됐다고 판단할 수 있다.\n",
    "\n",
    "**Conversion Rate: 전환율**\n",
    "\n",
    "전환은 광고를 통해 사이트로 유입된 방문객이 광고주가 원하는 특정 행위를 취하는 것을 말한다. 여기에서 특정 행위는 가령 회원가입, 장바구니 담기, 제품 구매, 뉴스레터 가입, 소프트웨어 다운로드 등이 될 수 있다. 전환율은 유입수(number of leads)를 전환수(number of conversions)로 나눈 것이다. "
   ]
  },
  {
   "cell_type": "markdown",
   "metadata": {},
   "source": [
    "### 전환율 계산\n",
    "\n",
    "우리의 텔레마케팅 데이터세트에서 \"전환\"은 예금가입을 의미한다. 데이터세트의 출력변수 `y`는 고객이 정기예금에 가입했는지를 yes 또는 no로 기록한 것이다. 우선 전환율 계산을 위해 이 변수를 yes는 1, no는 0으로 인코딩한다."
   ]
  },
  {
   "cell_type": "code",
   "execution_count": 3,
   "metadata": {},
   "outputs": [
    {
     "data": {
      "text/html": [
       "<div>\n",
       "<style scoped>\n",
       "    .dataframe tbody tr th:only-of-type {\n",
       "        vertical-align: middle;\n",
       "    }\n",
       "\n",
       "    .dataframe tbody tr th {\n",
       "        vertical-align: top;\n",
       "    }\n",
       "\n",
       "    .dataframe thead th {\n",
       "        text-align: right;\n",
       "    }\n",
       "</style>\n",
       "<table border=\"1\" class=\"dataframe\">\n",
       "  <thead>\n",
       "    <tr style=\"text-align: right;\">\n",
       "      <th></th>\n",
       "      <th>age</th>\n",
       "      <th>job</th>\n",
       "      <th>marital</th>\n",
       "      <th>education</th>\n",
       "      <th>default</th>\n",
       "      <th>housing</th>\n",
       "      <th>loan</th>\n",
       "      <th>contact</th>\n",
       "      <th>month</th>\n",
       "      <th>day_of_week</th>\n",
       "      <th>...</th>\n",
       "      <th>pdays</th>\n",
       "      <th>previous</th>\n",
       "      <th>poutcome</th>\n",
       "      <th>emp.var.rate</th>\n",
       "      <th>cons.price.idx</th>\n",
       "      <th>cons.conf.idx</th>\n",
       "      <th>euribor3m</th>\n",
       "      <th>nr.employed</th>\n",
       "      <th>y</th>\n",
       "      <th>conversion</th>\n",
       "    </tr>\n",
       "  </thead>\n",
       "  <tbody>\n",
       "    <tr>\n",
       "      <th>0</th>\n",
       "      <td>56</td>\n",
       "      <td>housemaid</td>\n",
       "      <td>married</td>\n",
       "      <td>basic.4y</td>\n",
       "      <td>no</td>\n",
       "      <td>no</td>\n",
       "      <td>no</td>\n",
       "      <td>telephone</td>\n",
       "      <td>may</td>\n",
       "      <td>mon</td>\n",
       "      <td>...</td>\n",
       "      <td>999</td>\n",
       "      <td>0</td>\n",
       "      <td>nonexistent</td>\n",
       "      <td>1.1</td>\n",
       "      <td>93.994</td>\n",
       "      <td>-36.4</td>\n",
       "      <td>4.857</td>\n",
       "      <td>5191.0</td>\n",
       "      <td>no</td>\n",
       "      <td>0</td>\n",
       "    </tr>\n",
       "    <tr>\n",
       "      <th>1</th>\n",
       "      <td>57</td>\n",
       "      <td>services</td>\n",
       "      <td>married</td>\n",
       "      <td>high.school</td>\n",
       "      <td>unknown</td>\n",
       "      <td>no</td>\n",
       "      <td>no</td>\n",
       "      <td>telephone</td>\n",
       "      <td>may</td>\n",
       "      <td>mon</td>\n",
       "      <td>...</td>\n",
       "      <td>999</td>\n",
       "      <td>0</td>\n",
       "      <td>nonexistent</td>\n",
       "      <td>1.1</td>\n",
       "      <td>93.994</td>\n",
       "      <td>-36.4</td>\n",
       "      <td>4.857</td>\n",
       "      <td>5191.0</td>\n",
       "      <td>no</td>\n",
       "      <td>0</td>\n",
       "    </tr>\n",
       "    <tr>\n",
       "      <th>2</th>\n",
       "      <td>37</td>\n",
       "      <td>services</td>\n",
       "      <td>married</td>\n",
       "      <td>high.school</td>\n",
       "      <td>no</td>\n",
       "      <td>yes</td>\n",
       "      <td>no</td>\n",
       "      <td>telephone</td>\n",
       "      <td>may</td>\n",
       "      <td>mon</td>\n",
       "      <td>...</td>\n",
       "      <td>999</td>\n",
       "      <td>0</td>\n",
       "      <td>nonexistent</td>\n",
       "      <td>1.1</td>\n",
       "      <td>93.994</td>\n",
       "      <td>-36.4</td>\n",
       "      <td>4.857</td>\n",
       "      <td>5191.0</td>\n",
       "      <td>no</td>\n",
       "      <td>0</td>\n",
       "    </tr>\n",
       "    <tr>\n",
       "      <th>3</th>\n",
       "      <td>40</td>\n",
       "      <td>admin.</td>\n",
       "      <td>married</td>\n",
       "      <td>basic.6y</td>\n",
       "      <td>no</td>\n",
       "      <td>no</td>\n",
       "      <td>no</td>\n",
       "      <td>telephone</td>\n",
       "      <td>may</td>\n",
       "      <td>mon</td>\n",
       "      <td>...</td>\n",
       "      <td>999</td>\n",
       "      <td>0</td>\n",
       "      <td>nonexistent</td>\n",
       "      <td>1.1</td>\n",
       "      <td>93.994</td>\n",
       "      <td>-36.4</td>\n",
       "      <td>4.857</td>\n",
       "      <td>5191.0</td>\n",
       "      <td>no</td>\n",
       "      <td>0</td>\n",
       "    </tr>\n",
       "    <tr>\n",
       "      <th>4</th>\n",
       "      <td>56</td>\n",
       "      <td>services</td>\n",
       "      <td>married</td>\n",
       "      <td>high.school</td>\n",
       "      <td>no</td>\n",
       "      <td>no</td>\n",
       "      <td>yes</td>\n",
       "      <td>telephone</td>\n",
       "      <td>may</td>\n",
       "      <td>mon</td>\n",
       "      <td>...</td>\n",
       "      <td>999</td>\n",
       "      <td>0</td>\n",
       "      <td>nonexistent</td>\n",
       "      <td>1.1</td>\n",
       "      <td>93.994</td>\n",
       "      <td>-36.4</td>\n",
       "      <td>4.857</td>\n",
       "      <td>5191.0</td>\n",
       "      <td>no</td>\n",
       "      <td>0</td>\n",
       "    </tr>\n",
       "  </tbody>\n",
       "</table>\n",
       "<p>5 rows × 22 columns</p>\n",
       "</div>"
      ],
      "text/plain": [
       "   age        job  marital    education  default housing loan    contact  \\\n",
       "0   56  housemaid  married     basic.4y       no      no   no  telephone   \n",
       "1   57   services  married  high.school  unknown      no   no  telephone   \n",
       "2   37   services  married  high.school       no     yes   no  telephone   \n",
       "3   40     admin.  married     basic.6y       no      no   no  telephone   \n",
       "4   56   services  married  high.school       no      no  yes  telephone   \n",
       "\n",
       "  month day_of_week  ...  pdays  previous     poutcome  emp.var.rate  \\\n",
       "0   may         mon  ...    999         0  nonexistent           1.1   \n",
       "1   may         mon  ...    999         0  nonexistent           1.1   \n",
       "2   may         mon  ...    999         0  nonexistent           1.1   \n",
       "3   may         mon  ...    999         0  nonexistent           1.1   \n",
       "4   may         mon  ...    999         0  nonexistent           1.1   \n",
       "\n",
       "  cons.price.idx  cons.conf.idx  euribor3m  nr.employed   y  conversion  \n",
       "0         93.994          -36.4      4.857       5191.0  no           0  \n",
       "1         93.994          -36.4      4.857       5191.0  no           0  \n",
       "2         93.994          -36.4      4.857       5191.0  no           0  \n",
       "3         93.994          -36.4      4.857       5191.0  no           0  \n",
       "4         93.994          -36.4      4.857       5191.0  no           0  \n",
       "\n",
       "[5 rows x 22 columns]"
      ]
     },
     "execution_count": 3,
     "metadata": {},
     "output_type": "execute_result"
    }
   ],
   "source": [
    "df['conversion'] = df['y'].apply(lambda x: 1 if x == 'yes' else 0)\n",
    "df.head()"
   ]
  },
  {
   "cell_type": "markdown",
   "metadata": {},
   "source": [
    "**총 고객수**"
   ]
  },
  {
   "cell_type": "markdown",
   "metadata": {},
   "source": [
    "`pandas`에서 지원하는 `shape` 함수는 데이터 행과 열의 개수를 구하는 함수이다. 아래 결과를 보면 텔레마케팅 총 고객수는 41,188명이고, 변수는 22개이다."
   ]
  },
  {
   "cell_type": "code",
   "execution_count": 4,
   "metadata": {},
   "outputs": [
    {
     "data": {
      "text/plain": [
       "(41188, 22)"
      ]
     },
     "execution_count": 4,
     "metadata": {},
     "output_type": "execute_result"
    }
   ],
   "source": [
    "df.shape"
   ]
  },
  {
   "cell_type": "markdown",
   "metadata": {},
   "source": [
    "**총 전환 수**"
   ]
  },
  {
   "cell_type": "markdown",
   "metadata": {},
   "source": [
    "전환자(즉, 예금에 가입한 고객)자가 총 몇명인지 알기 위해 앞에서 만든 `conversion` 변수의 합을 구한다. `conversion` 변수가 `df`라는 데이터프레임에 들어있기 때문에 `df.conversion` 또는 `df['conversion']`으로 표현해야 한다. 판다스의 `sum()` 메서드를 이용해 해당 변수의 합을 구할 수 있다."
   ]
  },
  {
   "cell_type": "code",
   "execution_count": 5,
   "metadata": {},
   "outputs": [
    {
     "data": {
      "text/plain": [
       "4640"
      ]
     },
     "execution_count": 5,
     "metadata": {},
     "output_type": "execute_result"
    }
   ],
   "source": [
    "df.conversion.sum()  # 또는 df['conversion'].sum()"
   ]
  },
  {
   "cell_type": "markdown",
   "metadata": {},
   "source": [
    "**전환율**"
   ]
  },
  {
   "cell_type": "code",
   "execution_count": 6,
   "metadata": {},
   "outputs": [
    {
     "name": "stdout",
     "output_type": "stream",
     "text": [
      "41188명 중 4640명이 전환\n",
      "전환율: 11.27%\n"
     ]
    }
   ],
   "source": [
    "print('%i명 중 %i명이 전환' % (df.shape[0], df.conversion.sum()))\n",
    "print('전환율: %0.2f%%' % (df.conversion.sum() / df.shape[0] * 100.0))"
   ]
  },
  {
   "cell_type": "markdown",
   "metadata": {},
   "source": [
    "### 그룹별 전환율\n",
    "\n",
    "위에서 계산한 것은 총(aggregate) 전환율인 반면, 고객을 여러 세그먼트로 분류하고 각 세그먼트 별로 전환율을 계산해보자. 이런 경우 `groupby` 함수가 유용하다."
   ]
  },
  {
   "cell_type": "markdown",
   "metadata": {},
   "source": [
    "**연령별 전환율 계산**"
   ]
  },
  {
   "cell_type": "code",
   "execution_count": 7,
   "metadata": {},
   "outputs": [],
   "source": [
    "conversions_by_age = (df.groupby(by='age')['conversion'].sum() / \n",
    "                      df.groupby(by='age')['conversion'].count() * 100.0)"
   ]
  },
  {
   "cell_type": "code",
   "execution_count": 8,
   "metadata": {},
   "outputs": [
    {
     "data": {
      "text/plain": [
       "age\n",
       "17     40.000000\n",
       "18     42.857143\n",
       "19     47.619048\n",
       "20     35.384615\n",
       "21     28.431373\n",
       "         ...    \n",
       "91      0.000000\n",
       "92     75.000000\n",
       "94      0.000000\n",
       "95      0.000000\n",
       "98    100.000000\n",
       "Name: conversion, Length: 78, dtype: float64"
      ]
     },
     "execution_count": 8,
     "metadata": {},
     "output_type": "execute_result"
    }
   ],
   "source": [
    "conversions_by_age"
   ]
  },
  {
   "cell_type": "markdown",
   "metadata": {},
   "source": [
    "**연령별 전환율 그래프**"
   ]
  },
  {
   "cell_type": "markdown",
   "metadata": {},
   "source": [
    "그래프에서 한글이 깨지는 것을 막기 위해 아래 명령문을 실행한다."
   ]
  },
  {
   "cell_type": "code",
   "execution_count": 9,
   "metadata": {},
   "outputs": [],
   "source": [
    "import matplotlib\n",
    "from matplotlib import font_manager, rc\n",
    "font_path = \"C:/Windows/Fonts/malgun.ttf\"\n",
    "font = font_manager.FontProperties(fname=font_path).get_name()\n",
    "rc('font', family=font)\n",
    "matplotlib.rcParams['axes.unicode_minus'] = False  # 축에 마이너스 부호 제대로 나오게 하기"
   ]
  },
  {
   "cell_type": "markdown",
   "metadata": {},
   "source": [
    "위 코드는 Windows에 해당하는 것이고, MacBook의 경우에는 위 명령문 세 번째 줄을 다음과 같이 바꿔야 한다.\n",
    "```\n",
    "font_path = \"/System/Library/Fonts/AppleSDGothicNeo.ttc\"\n",
    "```"
   ]
  },
  {
   "cell_type": "code",
   "execution_count": 10,
   "metadata": {},
   "outputs": [
    {
     "data": {
      "image/png": "[encoded data removed]",
      "text/plain": [
       "<Figure size 1400x500 with 1 Axes>"
      ]
     },
     "metadata": {},
     "output_type": "display_data"
    }
   ],
   "source": [
    "ax = conversions_by_age.plot(kind='bar', figsize=(14, 5))\n",
    "plt.xlabel('연령')\n",
    "plt.ylabel('전환율(%)')\n",
    "plt.title('연령별 전환율', fontsize=14, fontweight='bold')\n",
    "plt.show()"
   ]
  },
  {
   "cell_type": "markdown",
   "metadata": {},
   "source": [
    "**연령대 그룹핑**"
   ]
  },
  {
   "cell_type": "code",
   "execution_count": 11,
   "metadata": {},
   "outputs": [],
   "source": [
    "df['age_group'] = df['age'].apply(lambda x:\n",
    "                                  '[17, 30)' if x < 30 else \n",
    "                                  '[30, 40)' if x < 40 else\n",
    "                                  '[40, 50)' if x < 50 else\n",
    "                                  '[50, 60)' if x < 60 else\n",
    "                                  '[60, 70)' if x < 70 else\n",
    "                                  '[70, 98]')"
   ]
  },
  {
   "cell_type": "markdown",
   "metadata": {},
   "source": [
    "위 코딩에서 `lambda` 사용법은 아래 [부록](#부록:-lambda-사용법)에 몇 가지 사용 예시가 나와 있다."
   ]
  },
  {
   "cell_type": "markdown",
   "metadata": {},
   "source": [
    "**연령대별 전환율**"
   ]
  },
  {
   "cell_type": "code",
   "execution_count": 12,
   "metadata": {},
   "outputs": [
    {
     "data": {
      "text/plain": [
       "age_group\n",
       "[17, 30)    16.263891\n",
       "[30, 40)    10.125162\n",
       "[40, 50)     7.923238\n",
       "[50, 60)    10.157389\n",
       "[60, 70)    34.668508\n",
       "[70, 98]    47.121535\n",
       "Name: conversion, dtype: float64"
      ]
     },
     "execution_count": 12,
     "metadata": {},
     "output_type": "execute_result"
    }
   ],
   "source": [
    "conversions_by_age_group = (df.groupby(by='age_group')['conversion'].sum() /\n",
    "                            df.groupby(by='age_group')['conversion'].count() * 100.0)\n",
    "conversions_by_age_group "
   ]
  },
  {
   "cell_type": "code",
   "execution_count": 13,
   "metadata": {},
   "outputs": [
    {
     "data": {
      "image/png": "[encoded data removed]",
      "text/plain": [
       "<Figure size 500x300 with 1 Axes>"
      ]
     },
     "metadata": {},
     "output_type": "display_data"
    }
   ],
   "source": [
    "ax = conversions_by_age_group.loc[\n",
    "    ['[17, 30)', '[30, 40)', '[40, 50)', '[50, 60)', '[60, 70)', '[70, 98]']\n",
    "].plot(kind='bar', figsize=(5,3))\n",
    "plt.xlabel('연령대')\n",
    "plt.ylabel('전환율(%)')\n",
    "plt.title('연령대별 전환율', fontsize=10, fontweight='bold')\n",
    "plt.show()"
   ]
  },
  {
   "cell_type": "markdown",
   "metadata": {},
   "source": [
    "### 피벗 테이블\n",
    "\n",
    "전환 그룹과 비전환 그룹의 인구통계적(demographic) 특징을 분석하는 것은 마케팅 전략 수립에 중요하다. 가령 전환 그룹과 비전환 그룹의 결혼 여부 분포를 비교해보자. 이런 식으로 만든 표를 **피벗 테이블**(pivot table)이라고 한다. 통계학에서는 **분할표**(contingency table)라고 부른다.\n",
    "\n",
    "`pandas` 라이브러리의 `pivot_table` 함수를 사용한다. `df` 데이터프레임의 `y` 변수를 분류하는데, 행(index)은 `marital` 변수이고 열(column)은 `conversion` 변수이다. `aggfunc=` 파라미터를 사용하여 집계 유형을 정할 수 있는데, 여기에서는 `len` 함수를 사용하여 각 그룹의 개체(고객) 수를 count한다. 이렇게 해서 만들어진 `pd.pivot_table`은 하나의 새로운 데이터프레임이 된다. "
   ]
  },
  {
   "cell_type": "code",
   "execution_count": 14,
   "metadata": {},
   "outputs": [
    {
     "data": {
      "text/html": [
       "<div>\n",
       "<style scoped>\n",
       "    .dataframe tbody tr th:only-of-type {\n",
       "        vertical-align: middle;\n",
       "    }\n",
       "\n",
       "    .dataframe tbody tr th {\n",
       "        vertical-align: top;\n",
       "    }\n",
       "\n",
       "    .dataframe thead th {\n",
       "        text-align: right;\n",
       "    }\n",
       "</style>\n",
       "<table border=\"1\" class=\"dataframe\">\n",
       "  <thead>\n",
       "    <tr style=\"text-align: right;\">\n",
       "      <th>conversion</th>\n",
       "      <th>0</th>\n",
       "      <th>1</th>\n",
       "    </tr>\n",
       "    <tr>\n",
       "      <th>marital</th>\n",
       "      <th></th>\n",
       "      <th></th>\n",
       "    </tr>\n",
       "  </thead>\n",
       "  <tbody>\n",
       "    <tr>\n",
       "      <th>divorced</th>\n",
       "      <td>4136</td>\n",
       "      <td>476</td>\n",
       "    </tr>\n",
       "    <tr>\n",
       "      <th>married</th>\n",
       "      <td>22396</td>\n",
       "      <td>2532</td>\n",
       "    </tr>\n",
       "    <tr>\n",
       "      <th>single</th>\n",
       "      <td>9948</td>\n",
       "      <td>1620</td>\n",
       "    </tr>\n",
       "    <tr>\n",
       "      <th>unknown</th>\n",
       "      <td>68</td>\n",
       "      <td>12</td>\n",
       "    </tr>\n",
       "  </tbody>\n",
       "</table>\n",
       "</div>"
      ],
      "text/plain": [
       "conversion      0     1\n",
       "marital                \n",
       "divorced     4136   476\n",
       "married     22396  2532\n",
       "single       9948  1620\n",
       "unknown        68    12"
      ]
     },
     "execution_count": 14,
     "metadata": {},
     "output_type": "execute_result"
    }
   ],
   "source": [
    "pd.pivot_table(df, values='y', index='marital', columns='conversion', aggfunc=len)"
   ]
  },
  {
   "cell_type": "markdown",
   "metadata": {},
   "source": [
    "똑같은 피벗 테이블을 `groupby` 함수를 사용해서 아래와 같이 만들 수도 있다. 아래 명령문은 `marital`과 `conversion`의 각 그룹에 몇명이 속해 있는지를 (`conversion` 관측 개수를 통해) 구한 다음에 `conversion` 그룹에 대해서는 stack 하지 않는 방식으로(즉, `conversion` 그룹을 column으로) 표현하라는 것이다. 아래 표에서 가령 싱글이면서 예금에 가입한 사람은 1,620명이다."
   ]
  },
  {
   "cell_type": "code",
   "execution_count": 15,
   "metadata": {},
   "outputs": [
    {
     "data": {
      "text/html": [
       "<div>\n",
       "<style scoped>\n",
       "    .dataframe tbody tr th:only-of-type {\n",
       "        vertical-align: middle;\n",
       "    }\n",
       "\n",
       "    .dataframe tbody tr th {\n",
       "        vertical-align: top;\n",
       "    }\n",
       "\n",
       "    .dataframe thead th {\n",
       "        text-align: right;\n",
       "    }\n",
       "</style>\n",
       "<table border=\"1\" class=\"dataframe\">\n",
       "  <thead>\n",
       "    <tr style=\"text-align: right;\">\n",
       "      <th>conversion</th>\n",
       "      <th>0</th>\n",
       "      <th>1</th>\n",
       "    </tr>\n",
       "    <tr>\n",
       "      <th>marital</th>\n",
       "      <th></th>\n",
       "      <th></th>\n",
       "    </tr>\n",
       "  </thead>\n",
       "  <tbody>\n",
       "    <tr>\n",
       "      <th>divorced</th>\n",
       "      <td>4136</td>\n",
       "      <td>476</td>\n",
       "    </tr>\n",
       "    <tr>\n",
       "      <th>married</th>\n",
       "      <td>22396</td>\n",
       "      <td>2532</td>\n",
       "    </tr>\n",
       "    <tr>\n",
       "      <th>single</th>\n",
       "      <td>9948</td>\n",
       "      <td>1620</td>\n",
       "    </tr>\n",
       "    <tr>\n",
       "      <th>unknown</th>\n",
       "      <td>68</td>\n",
       "      <td>12</td>\n",
       "    </tr>\n",
       "  </tbody>\n",
       "</table>\n",
       "</div>"
      ],
      "text/plain": [
       "conversion      0     1\n",
       "marital                \n",
       "divorced     4136   476\n",
       "married     22396  2532\n",
       "single       9948  1620\n",
       "unknown        68    12"
      ]
     },
     "execution_count": 15,
     "metadata": {},
     "output_type": "execute_result"
    }
   ],
   "source": [
    "df.groupby(['marital','conversion'])['conversion'].count().unstack('conversion')"
   ]
  },
  {
   "cell_type": "markdown",
   "metadata": {},
   "source": [
    "**결혼유형별 전환율 계산**"
   ]
  },
  {
   "cell_type": "markdown",
   "metadata": {},
   "source": [
    "위 표는 `marital`과 `conversion`의 각 그룹별로 관측 숫자를 구한 것이고, 이것을 비율로 바꾼 것이 아래 나와 있다. 이때 분모를 무엇으로 하는냐가 문제인데, 여기에서는 각 결혼유형별 총 관측 숫자를 분모로 삼았다. 따라서 아래 표의 숫자는 각 결혼유형별 비전환율(`conversion=0`) 및 전환율(`conversion=1`)이다. 아래 결과를 보면, 싱글 그룹에서는 전환율이 14.0%로서 이혼 그룹(10.3%) 및 결혼 그룹(10.2%)의 전환율보다 더 높은 것을 알 수 있다. "
   ]
  },
  {
   "cell_type": "code",
   "execution_count": 16,
   "metadata": {
    "scrolled": true
   },
   "outputs": [
    {
     "data": {
      "text/html": [
       "<div>\n",
       "<style scoped>\n",
       "    .dataframe tbody tr th:only-of-type {\n",
       "        vertical-align: middle;\n",
       "    }\n",
       "\n",
       "    .dataframe tbody tr th {\n",
       "        vertical-align: top;\n",
       "    }\n",
       "\n",
       "    .dataframe thead th {\n",
       "        text-align: right;\n",
       "    }\n",
       "</style>\n",
       "<table border=\"1\" class=\"dataframe\">\n",
       "  <thead>\n",
       "    <tr style=\"text-align: right;\">\n",
       "      <th>conversion</th>\n",
       "      <th>0</th>\n",
       "      <th>1</th>\n",
       "    </tr>\n",
       "    <tr>\n",
       "      <th>marital</th>\n",
       "      <th></th>\n",
       "      <th></th>\n",
       "    </tr>\n",
       "  </thead>\n",
       "  <tbody>\n",
       "    <tr>\n",
       "      <th>divorced</th>\n",
       "      <td>89.679098</td>\n",
       "      <td>10.320902</td>\n",
       "    </tr>\n",
       "    <tr>\n",
       "      <th>married</th>\n",
       "      <td>89.842747</td>\n",
       "      <td>10.157253</td>\n",
       "    </tr>\n",
       "    <tr>\n",
       "      <th>single</th>\n",
       "      <td>85.995851</td>\n",
       "      <td>14.004149</td>\n",
       "    </tr>\n",
       "    <tr>\n",
       "      <th>unknown</th>\n",
       "      <td>85.000000</td>\n",
       "      <td>15.000000</td>\n",
       "    </tr>\n",
       "  </tbody>\n",
       "</table>\n",
       "</div>"
      ],
      "text/plain": [
       "conversion          0          1\n",
       "marital                         \n",
       "divorced    89.679098  10.320902\n",
       "married     89.842747  10.157253\n",
       "single      85.995851  14.004149\n",
       "unknown     85.000000  15.000000"
      ]
     },
     "execution_count": 16,
     "metadata": {},
     "output_type": "execute_result"
    }
   ],
   "source": [
    "marital_conversion_df = pd.pivot_table(df, values='y', index='marital', \n",
    "    columns='conversion', aggfunc=len)  # 위에서 만든 피벗 테이블\n",
    "marital_conversion_df = marital_conversion_df.divide(\n",
    "    df.groupby(by='marital')['conversion'].count(), axis=0)*100.0\n",
    "marital_conversion_df"
   ]
  },
  {
   "cell_type": "markdown",
   "metadata": {},
   "source": [
    "**연령대별 & 결혼유형별 피벗 테이블**"
   ]
  },
  {
   "cell_type": "markdown",
   "metadata": {},
   "source": [
    "앞에서는 결혼유형이라는 단일 범주를 기준으로 전환율을 계산했는데, 이번에는 연령대 및 결혼유형의 2개 범주를 기준으로 전환율을 계산해보자. 우선 아래 명령문은 `age_group`과 `marital`의 각 그룹에 전환자가 몇명 속해 있는지를 (`conversion` 관측값의 합을 통해) 구한 다음에 `marital` 그룹에 대해서는 stack 하지 않는 방식으로(즉 `marital` 그룹을 column으로) 표현하라는 것이다. 아래 표에서 가령 싱글이면서 30대 중 예금에 가입한 전환자는 684명이다."
   ]
  },
  {
   "cell_type": "code",
   "execution_count": 17,
   "metadata": {
    "scrolled": true
   },
   "outputs": [
    {
     "data": {
      "text/html": [
       "<div>\n",
       "<style scoped>\n",
       "    .dataframe tbody tr th:only-of-type {\n",
       "        vertical-align: middle;\n",
       "    }\n",
       "\n",
       "    .dataframe tbody tr th {\n",
       "        vertical-align: top;\n",
       "    }\n",
       "\n",
       "    .dataframe thead th {\n",
       "        text-align: right;\n",
       "    }\n",
       "</style>\n",
       "<table border=\"1\" class=\"dataframe\">\n",
       "  <thead>\n",
       "    <tr style=\"text-align: right;\">\n",
       "      <th>marital</th>\n",
       "      <th>divorced</th>\n",
       "      <th>married</th>\n",
       "      <th>single</th>\n",
       "      <th>unknown</th>\n",
       "    </tr>\n",
       "    <tr>\n",
       "      <th>age_group</th>\n",
       "      <th></th>\n",
       "      <th></th>\n",
       "      <th></th>\n",
       "      <th></th>\n",
       "    </tr>\n",
       "  </thead>\n",
       "  <tbody>\n",
       "    <tr>\n",
       "      <th>[17, 30)</th>\n",
       "      <td>12.0</td>\n",
       "      <td>158.0</td>\n",
       "      <td>751.0</td>\n",
       "      <td>1.0</td>\n",
       "    </tr>\n",
       "    <tr>\n",
       "      <th>[30, 40)</th>\n",
       "      <td>128.0</td>\n",
       "      <td>897.0</td>\n",
       "      <td>684.0</td>\n",
       "      <td>6.0</td>\n",
       "    </tr>\n",
       "    <tr>\n",
       "      <th>[40, 50)</th>\n",
       "      <td>126.0</td>\n",
       "      <td>575.0</td>\n",
       "      <td>130.0</td>\n",
       "      <td>3.0</td>\n",
       "    </tr>\n",
       "    <tr>\n",
       "      <th>[50, 60)</th>\n",
       "      <td>119.0</td>\n",
       "      <td>533.0</td>\n",
       "      <td>44.0</td>\n",
       "      <td>1.0</td>\n",
       "    </tr>\n",
       "    <tr>\n",
       "      <th>[60, 70)</th>\n",
       "      <td>27.0</td>\n",
       "      <td>218.0</td>\n",
       "      <td>5.0</td>\n",
       "      <td>1.0</td>\n",
       "    </tr>\n",
       "    <tr>\n",
       "      <th>[70, 98]</th>\n",
       "      <td>64.0</td>\n",
       "      <td>151.0</td>\n",
       "      <td>6.0</td>\n",
       "      <td>0.0</td>\n",
       "    </tr>\n",
       "  </tbody>\n",
       "</table>\n",
       "</div>"
      ],
      "text/plain": [
       "marital    divorced  married  single  unknown\n",
       "age_group                                    \n",
       "[17, 30)       12.0    158.0   751.0      1.0\n",
       "[30, 40)      128.0    897.0   684.0      6.0\n",
       "[40, 50)      126.0    575.0   130.0      3.0\n",
       "[50, 60)      119.0    533.0    44.0      1.0\n",
       "[60, 70)       27.0    218.0     5.0      1.0\n",
       "[70, 98]       64.0    151.0     6.0      0.0"
      ]
     },
     "execution_count": 17,
     "metadata": {},
     "output_type": "execute_result"
    }
   ],
   "source": [
    "age_marital_df = df.groupby(['age_group', 'marital'])\\\n",
    "['conversion'].sum().unstack('marital').fillna(0)\n",
    "age_marital_df"
   ]
  },
  {
   "cell_type": "markdown",
   "metadata": {},
   "source": [
    "**연령대별 & 결혼유형별 전환율 계산**"
   ]
  },
  {
   "cell_type": "markdown",
   "metadata": {},
   "source": [
    "위 표는 `age_group`과 `marital`의 각 그룹별로 전환자 숫자를 구한 것이고, 이것을 전환율로 바꾼 것이 아래 나와 있다. 이때 분모를 무엇으로 하는냐가 문제인데, 여기에서는 각 결혼유형별 총 관측수를 분모로 삼았다. 따라서 아래 표의 숫자는 각 결혼유형별 전환율인 셈이다. "
   ]
  },
  {
   "cell_type": "code",
   "execution_count": 18,
   "metadata": {},
   "outputs": [
    {
     "data": {
      "text/html": [
       "<div>\n",
       "<style scoped>\n",
       "    .dataframe tbody tr th:only-of-type {\n",
       "        vertical-align: middle;\n",
       "    }\n",
       "\n",
       "    .dataframe tbody tr th {\n",
       "        vertical-align: top;\n",
       "    }\n",
       "\n",
       "    .dataframe thead th {\n",
       "        text-align: right;\n",
       "    }\n",
       "</style>\n",
       "<table border=\"1\" class=\"dataframe\">\n",
       "  <thead>\n",
       "    <tr style=\"text-align: right;\">\n",
       "      <th>marital</th>\n",
       "      <th>divorced</th>\n",
       "      <th>married</th>\n",
       "      <th>single</th>\n",
       "      <th>unknown</th>\n",
       "    </tr>\n",
       "    <tr>\n",
       "      <th>age_group</th>\n",
       "      <th></th>\n",
       "      <th></th>\n",
       "      <th></th>\n",
       "      <th></th>\n",
       "    </tr>\n",
       "  </thead>\n",
       "  <tbody>\n",
       "    <tr>\n",
       "      <th>[17, 30)</th>\n",
       "      <td>0.211678</td>\n",
       "      <td>2.787088</td>\n",
       "      <td>13.247486</td>\n",
       "      <td>0.017640</td>\n",
       "    </tr>\n",
       "    <tr>\n",
       "      <th>[30, 40)</th>\n",
       "      <td>0.755697</td>\n",
       "      <td>5.295785</td>\n",
       "      <td>4.038257</td>\n",
       "      <td>0.035423</td>\n",
       "    </tr>\n",
       "    <tr>\n",
       "      <th>[40, 50)</th>\n",
       "      <td>1.197036</td>\n",
       "      <td>5.462664</td>\n",
       "      <td>1.235037</td>\n",
       "      <td>0.028501</td>\n",
       "    </tr>\n",
       "    <tr>\n",
       "      <th>[50, 60)</th>\n",
       "      <td>1.734188</td>\n",
       "      <td>7.767415</td>\n",
       "      <td>0.641212</td>\n",
       "      <td>0.014573</td>\n",
       "    </tr>\n",
       "    <tr>\n",
       "      <th>[60, 70)</th>\n",
       "      <td>3.729282</td>\n",
       "      <td>30.110497</td>\n",
       "      <td>0.690608</td>\n",
       "      <td>0.138122</td>\n",
       "    </tr>\n",
       "    <tr>\n",
       "      <th>[70, 98]</th>\n",
       "      <td>13.646055</td>\n",
       "      <td>32.196162</td>\n",
       "      <td>1.279318</td>\n",
       "      <td>0.000000</td>\n",
       "    </tr>\n",
       "  </tbody>\n",
       "</table>\n",
       "</div>"
      ],
      "text/plain": [
       "marital     divorced    married     single   unknown\n",
       "age_group                                           \n",
       "[17, 30)    0.211678   2.787088  13.247486  0.017640\n",
       "[30, 40)    0.755697   5.295785   4.038257  0.035423\n",
       "[40, 50)    1.197036   5.462664   1.235037  0.028501\n",
       "[50, 60)    1.734188   7.767415   0.641212  0.014573\n",
       "[60, 70)    3.729282  30.110497   0.690608  0.138122\n",
       "[70, 98]   13.646055  32.196162   1.279318  0.000000"
      ]
     },
     "execution_count": 18,
     "metadata": {},
     "output_type": "execute_result"
    }
   ],
   "source": [
    "age_marital_df = age_marital_df.divide(\n",
    "    df.groupby(by='age_group')['conversion'].count(), axis=0)*100.0\n",
    "age_marital_df"
   ]
  },
  {
   "cell_type": "markdown",
   "metadata": {},
   "source": [
    "**전환율 막대그래프(1)**"
   ]
  },
  {
   "cell_type": "code",
   "execution_count": 19,
   "metadata": {},
   "outputs": [
    {
     "data": {
      "image/png": "[encoded data removed]",
      "text/plain": [
       "<Figure size 700x450 with 1 Axes>"
      ]
     },
     "metadata": {},
     "output_type": "display_data"
    }
   ],
   "source": [
    "ax = age_marital_df.loc[\n",
    "    ['[17, 30)', '[30, 40)', '[40, 50)', '[50, 60)', '[60, 70)', '[70, 98]']\n",
    "].plot(kind='bar', grid=True, figsize=(7,4.5))\n",
    "plt.xlabel('연령대')\n",
    "plt.ylabel('전환율(%)')\n",
    "plt.title('연령대별 및 결혼유형별 전환율', fontsize=10, fontweight='bold')\n",
    "plt.show()"
   ]
  },
  {
   "cell_type": "markdown",
   "metadata": {},
   "source": [
    "**전환율 막대그래프(2)**"
   ]
  },
  {
   "cell_type": "code",
   "execution_count": 20,
   "metadata": {},
   "outputs": [
    {
     "data": {
      "image/png": "[encoded data removed]",
      "text/plain": [
       "<Figure size 700x450 with 1 Axes>"
      ]
     },
     "metadata": {},
     "output_type": "display_data"
    }
   ],
   "source": [
    "ax = age_marital_df.loc[\n",
    "    ['[17, 30)', '[30, 40)', '[40, 50)', '[50, 60)', '[60, 70)', '[70, 98]']\n",
    "].plot(kind='bar', stacked=True, grid=True, figsize=(7,4.5))\n",
    "plt.xlabel('연령대')\n",
    "plt.ylabel('전환율(%)')\n",
    "plt.title('연령대별 및 결혼유형별 전환율', fontsize=10, fontweight='bold')\n",
    "plt.show()"
   ]
  },
  {
   "cell_type": "markdown",
   "metadata": {},
   "source": [
    "## 부록: lambda 사용법"
   ]
  },
  {
   "cell_type": "code",
   "execution_count": 21,
   "metadata": {},
   "outputs": [
    {
     "data": {
      "text/plain": [
       "5"
      ]
     },
     "execution_count": 21,
     "metadata": {},
     "output_type": "execute_result"
    }
   ],
   "source": [
    "# lambda 문장 자체를 함수로 사용하는 경우\n",
    "(lambda n,m: n+m)(2,3)"
   ]
  },
  {
   "cell_type": "code",
   "execution_count": 22,
   "metadata": {},
   "outputs": [
    {
     "data": {
      "text/plain": [
       "15"
      ]
     },
     "execution_count": 22,
     "metadata": {},
     "output_type": "execute_result"
    }
   ],
   "source": [
    "# lambda를 변수에 할당하여 재사용하는 경우\n",
    "x = lambda a: a + 10\n",
    "x(5)"
   ]
  },
  {
   "cell_type": "code",
   "execution_count": 23,
   "metadata": {},
   "outputs": [
    {
     "data": {
      "text/plain": [
       "3"
      ]
     },
     "execution_count": 23,
     "metadata": {},
     "output_type": "execute_result"
    }
   ],
   "source": [
    "# lambda 식 안에서 조건문 사용 가능\n",
    "(lambda n,m: n if n%2==0 else m)(1,3)"
   ]
  },
  {
   "cell_type": "markdown",
   "metadata": {},
   "source": [
    "### ChatGPT Q&A\n",
    "\n",
    ">**파이썬에서 lambda 사용법의 간단한 예를 하나 알려줘.**\n",
    "\n",
    "---\n",
    "\n",
    ">파이썬에서 `lambda` 함수는 작은 익명 함수를 정의할 때 사용합니다. `lambda` 함수는 여러 개의 인자를 받을 수 있지만, 표현식은 하나만 가집니다. 여기 간단한 예시가 있습니다:\n",
    ">\n",
    ">     add = lambda x, y: x + y  \n",
    ">     result = add(5, 3)  \n",
    ">     print(result)  # 출력: 8\n",
    ">\n",
    ">>\n",
    ">이 예시에서 `lambda x, y: x + y`는 두 개의 인자 `x`와 `y`를 받아서 더한 값을 반환하는 익명 함수를 생성합니다. 이 함수를 `add`라는 변수에 할당하고, `add(5, 3)`을 호출하여 `x`에 `5`, `y`에 `3`을 전달한 결과를 출력합니다. 결과는 두 숫자의 합인 `8`입니다.\n",
    ">\n",
    ">`lambda` 함수는 간단한 함수가 필요할 때, 다른 함수의 인자로 함수를 전달할 때 유용하게 사용됩니다. 예를 들어, 리스트의 요소를 정렬할 때 정렬 기준으로 사용되는 함수를 `lambda`로 간단하게 정의할 수 있습니다."
   ]
  }
 ],
 "metadata": {
  "kernelspec": {
   "display_name": "Python 3 (ipykernel)",
   "language": "python",
   "name": "python3"
  },
  "language_info": {
   "codemirror_mode": {
    "name": "ipython",
    "version": 3
   },
   "file_extension": ".py",
   "mimetype": "text/x-python",
   "name": "python",
   "nbconvert_exporter": "python",
   "pygments_lexer": "ipython3",
   "version": "3.12.3"
  }
 },
 "nbformat": 4,
 "nbformat_minor": 4
}